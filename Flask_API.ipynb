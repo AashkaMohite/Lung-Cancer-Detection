{
  "nbformat": 4,
  "nbformat_minor": 0,
  "metadata": {
    "colab": {
      "name": "Flask API.ipynb",
      "provenance": [],
      "collapsed_sections": []
    },
    "kernelspec": {
      "display_name": "Python 3",
      "name": "python3"
    },
    "language_info": {
      "name": "python"
    }
  },
  "cells": [
    {
      "cell_type": "code",
      "metadata": {
        "id": "zS6kEChHLaFi"
      },
      "source": [
        "from google.colab import drive\n",
        "drive.mount('/content/drive')"
      ],
      "execution_count": null,
      "outputs": []
    },
    {
      "cell_type": "code",
      "metadata": {
        "id": "xV2z0hAhCb3n"
      },
      "source": [
        "!pip install flask-ngrok"
      ],
      "execution_count": null,
      "outputs": []
    },
    {
      "cell_type": "code",
      "metadata": {
        "id": "V0FvBxPoFWS5"
      },
      "source": [
        "from flask_ngrok import run_with_ngrok\n",
        "from flask import Flask, request, render_template\n",
        "\n",
        "app = Flask(__name__, template_folder='/content/drive/MyDrive/Lung cancer/templates')\n",
        "run_with_ngrok(app)"
      ],
      "execution_count": null,
      "outputs": []
    },
    {
      "cell_type": "code",
      "metadata": {
        "id": "kjo6-b6ZF9lD"
      },
      "source": [
        "from keras.models import load_model\n",
        "from keras.preprocessing.image import load_img, img_to_array\n",
        "import numpy as np\n",
        "\n",
        "model= load_model(\"/content/drive/MyDrive/Lung_best_dn(2).h5\")\n",
        "\n",
        "def prediction(path):\n",
        "  img = load_img(path, target_size=(224,224))\n",
        "  i= img_to_array(img)/255\n",
        "  input_arr = np.array([i])\n",
        "  pred = np.argmax(model.predict(input_arr))\n",
        "  return pred"
      ],
      "execution_count": null,
      "outputs": []
    },
    {
      "cell_type": "code",
      "metadata": {
        "id": "DTc_oQL_JmN2"
      },
      "source": [
        "import sys\n",
        "import os\n",
        "\n",
        "@app.route(\"/\", methods=['GET', 'POST'])\n",
        "def index():\n",
        "    # Main page\n",
        "    return render_template('index.html')\n",
        " \n",
        "@app.route(\"/submit\", methods=['GET','POST'])\n",
        "def predict():\n",
        "  if request.method == 'POST':\n",
        "\n",
        "    f = request.files['my_image']\n",
        "    # Save the file to ./static\n",
        "    basepath = \"/content/drive/MyDrive/Lung cancer\"\n",
        "    file_path = os.path.join(basepath, 'Uploads', f.filename)\n",
        "    f.save(file_path)\n",
        "    \n",
        "    pred1 = prediction(file_path)\n",
        "    if pred1 == 1:\n",
        "      p = \"The patient is having Malignant Tumor\"\n",
        "    elif pred1 == 0:\n",
        "      p = \"The patient is having Benign Tumor\"\n",
        "    else:\n",
        "      p = \"The patient is Cancer Free\"\n",
        "    return p\n",
        "  return render_template(\"index.html\", prediction = p, img_path = img_path)"
      ],
      "execution_count": null,
      "outputs": []
    },
    {
      "cell_type": "code",
      "metadata": {
        "colab": {
          "background_save": true,
          "base_uri": "https://localhost:8080/"
        },
        "id": "ygZMlgHpDEYK",
        "outputId": "119be75c-ea3b-4e59-9d05-f1af9d073a2f"
      },
      "source": [
        "app.run()"
      ],
      "execution_count": null,
      "outputs": [
        {
          "name": "stdout",
          "output_type": "stream",
          "text": [
            " * Serving Flask app \"__main__\" (lazy loading)\n",
            " * Environment: production\n",
            "\u001b[31m   WARNING: This is a development server. Do not use it in a production deployment.\u001b[0m\n",
            "\u001b[2m   Use a production WSGI server instead.\u001b[0m\n",
            " * Debug mode: off\n"
          ]
        },
        {
          "name": "stderr",
          "output_type": "stream",
          "text": [
            " * Running on http://127.0.0.1:5000/ (Press CTRL+C to quit)\n"
          ]
        },
        {
          "name": "stdout",
          "output_type": "stream",
          "text": [
            " * Running on http://a62f-34-91-51-86.ngrok.io\n",
            " * Traffic stats available on http://127.0.0.1:4040\n"
          ]
        },
        {
          "name": "stderr",
          "output_type": "stream",
          "text": [
            "127.0.0.1 - - [11/Nov/2021 08:39:36] \"\u001b[37mGET / HTTP/1.1\u001b[0m\" 200 -\n",
            "127.0.0.1 - - [11/Nov/2021 08:39:38] \"\u001b[33mGET /css.css HTTP/1.1\u001b[0m\" 404 -\n",
            "127.0.0.1 - - [11/Nov/2021 08:39:38] \"\u001b[33mGET /js,_popper.js%20js,_bootstrap.min.js%20vendors,_nice-select,_js,_jquery.nice-select.min.js.pagespeed.jc.tBS5uB2ol9.js HTTP/1.1\u001b[0m\" 404 -\n",
            "127.0.0.1 - - [11/Nov/2021 08:39:38] \"\u001b[33mGET /js/jquery-3.2.1.min.js HTTP/1.1\u001b[0m\" 404 -\n",
            "127.0.0.1 - - [11/Nov/2021 08:39:38] \"\u001b[33mGET /ajax/libs/waypoints/4.0.1/jquery.waypoints.min.js HTTP/1.1\u001b[0m\" 404 -\n",
            "127.0.0.1 - - [11/Nov/2021 08:39:39] \"\u001b[33mGET /ajax/libs/Counter-Up/1.0.0/jquery.counterup.min.js HTTP/1.1\u001b[0m\" 404 -\n",
            "127.0.0.1 - - [11/Nov/2021 08:39:39] \"\u001b[33mGET /vendors,_isotope,_isotope-min.js%20vendors,_owl-carousel,_owl.carousel.min.js%20js,_jquery.ajaxchimp.min.js%20js,_mail-script.js%20js,_custom.js.pagespeed.jc.ncHl7NkuoQ.js HTTP/1.1\u001b[0m\" 404 -\n",
            "127.0.0.1 - - [11/Nov/2021 08:39:39] \"\u001b[33mGET /gtag/js.js?id=UA-23581568-13 HTTP/1.1\u001b[0m\" 404 -\n",
            "127.0.0.1 - - [11/Nov/2021 08:39:39] \"\u001b[33mGET /beacon.min.js HTTP/1.1\u001b[0m\" 404 -\n",
            "127.0.0.1 - - [11/Nov/2021 08:39:39] \"\u001b[37mGET / HTTP/1.1\u001b[0m\" 200 -\n",
            "127.0.0.1 - - [11/Nov/2021 08:39:39] \"\u001b[33mGET /js,_popper.js%20js,_bootstrap.min.js%20vendors,_nice-select,_js,_jquery.nice-select.min.js.pagespeed.jc.tBS5uB2ol9.js HTTP/1.1\u001b[0m\" 404 -\n",
            "127.0.0.1 - - [11/Nov/2021 08:39:39] \"\u001b[33mGET /vendors,_isotope,_isotope-min.js%20vendors,_owl-carousel,_owl.carousel.min.js%20js,_jquery.ajaxchimp.min.js%20js,_mail-script.js%20js,_custom.js.pagespeed.jc.ncHl7NkuoQ.js HTTP/1.1\u001b[0m\" 404 -\n",
            "127.0.0.1 - - [11/Nov/2021 08:39:40] \"\u001b[33mGET /ajax/libs/Counter-Up/1.0.0/jquery.counterup.min.js HTTP/1.1\u001b[0m\" 404 -\n",
            "127.0.0.1 - - [11/Nov/2021 08:39:40] \"\u001b[33mGET /ajax/libs/waypoints/4.0.1/jquery.waypoints.min.js HTTP/1.1\u001b[0m\" 404 -\n",
            "127.0.0.1 - - [11/Nov/2021 08:39:40] \"\u001b[33mGET /beacon.min.js HTTP/1.1\u001b[0m\" 404 -\n",
            "127.0.0.1 - - [11/Nov/2021 08:39:40] \"\u001b[33mGET /beacon.min.js HTTP/1.1\u001b[0m\" 404 -\n",
            "127.0.0.1 - - [11/Nov/2021 08:39:40] \"\u001b[33mGET /gtag/js.js?id=UA-23581568-13 HTTP/1.1\u001b[0m\" 404 -\n",
            "127.0.0.1 - - [11/Nov/2021 08:40:14] \"\u001b[37mPOST /submit HTTP/1.1\u001b[0m\" 200 -\n",
            "127.0.0.1 - - [11/Nov/2021 08:40:15] \"\u001b[33mGET /favicon.ico HTTP/1.1\u001b[0m\" 404 -\n",
            "127.0.0.1 - - [11/Nov/2021 08:40:33] \"\u001b[37mPOST /submit HTTP/1.1\u001b[0m\" 200 -\n",
            "127.0.0.1 - - [11/Nov/2021 08:40:49] \"\u001b[37mPOST /submit HTTP/1.1\u001b[0m\" 200 -\n",
            "127.0.0.1 - - [11/Nov/2021 08:40:49] \"\u001b[33mGET /favicon.ico HTTP/1.1\u001b[0m\" 404 -\n"
          ]
        }
      ]
    }
  ]
}